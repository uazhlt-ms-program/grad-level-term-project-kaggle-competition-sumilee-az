{
 "cells": [
  {
   "cell_type": "code",
   "execution_count": 1,
   "id": "f3acaa4f-7fae-42fc-90a4-f7d24f7abfa8",
   "metadata": {},
   "outputs": [],
   "source": [
    "# Import necessary libraries\n",
    "import pandas as pd\n",
    "import numpy as np\n",
    "import re\n",
    "from sklearn.model_selection import train_test_split, cross_val_score, StratifiedKFold\n",
    "from sklearn.feature_extraction.text import TfidfVectorizer, CountVectorizer\n",
    "from sklearn.linear_model import LogisticRegression\n",
    "from sklearn.pipeline import Pipeline\n",
    "from sklearn.compose import ColumnTransformer\n",
    "from sklearn.metrics import make_scorer, f1_score, classification_report, accuracy_score\n",
    "from nltk.sentiment import SentimentIntensityAnalyzer\n",
    "from sklearn.base import BaseEstimator, TransformerMixin\n",
    "from sklearn.preprocessing import StandardScaler\n",
    "from scipy.sparse import csr_matrix\n",
    "import warnings \n",
    "from sklearn.naive_bayes import MultinomialNB\n",
    "warnings.filterwarnings('ignore') "
   ]
  },
  {
   "cell_type": "code",
   "execution_count": 2,
   "id": "bb0ef825-cd13-48d9-bc0b-3daa682d765f",
   "metadata": {},
   "outputs": [],
   "source": [
    "# Load the datasets\n",
    "# Training dataset to train the model.\n",
    "train = pd.read_csv('train.csv')\n",
    "# Test dataset to predict and evaluate the model's performance.\n",
    "test = pd.read_csv('test.csv')\n"
   ]
  },
  {
   "cell_type": "code",
   "execution_count": 3,
   "id": "c8264197-a574-4625-8a03-16f8b19eb068",
   "metadata": {},
   "outputs": [],
   "source": [
    "def preprocess_text(text):\n",
    "    if isinstance(text, str):\n",
    "        # Convert text to lowercase\n",
    "        text = text.lower()\n",
    "        # Remove special characters, numbers, and punctuation\n",
    "        text = re.sub(r'[^a-zA-Z\\s]', '', text)\n",
    "        # Remove extra whitespace\n",
    "        text = re.sub(r'\\s+', ' ', text).strip()\n",
    "\n",
    "        return text\n",
    "    else:\n",
    "        return ''\n",
    "\n",
    "train_text = train['TEXT']\n",
    "train_label = train['LABEL']\n",
    "test_text = test['TEXT']\n",
    "\n",
    "\n",
    "# Or replace NaN values with an empty string\n",
    "train_text = train_text.fillna('')\n",
    "test_text = test_text.fillna('')\n"
   ]
  },
  {
   "cell_type": "code",
   "execution_count": 4,
   "id": "d2e57968-e882-47f7-93ae-942a8fcf2e32",
   "metadata": {},
   "outputs": [],
   "source": [
    "vectorizer = TfidfVectorizer()"
   ]
  },
  {
   "cell_type": "code",
   "execution_count": 5,
   "id": "a6631501-de76-4375-bda2-6146faa6948a",
   "metadata": {},
   "outputs": [],
   "source": [
    "# Step 4: Train a Classifier\n",
    "# Function to train the classifier in batches\n",
    "trainer = vectorizer.fit_transform(train_text)\n",
    "\n",
    "\n",
    "# Fit the classifier with the training data\n",
    "\n",
    "classifier = LogisticRegression()\n",
    "classifier.fit(trainer, train_label)  \n",
    "\n",
    "\n",
    "# Make predictions on the test data\n",
    "tester = vectorizer.transform(test_text)\n",
    "trainer_predictions = classifier.predict(tester)\n",
    "\n"
   ]
  },
  {
   "cell_type": "code",
   "execution_count": 6,
   "id": "87e16903-3003-4b21-8473-20595fd31dcf",
   "metadata": {},
   "outputs": [
    {
     "name": "stdout",
     "output_type": "stream",
     "text": [
      "training accuracy is:  0.9568383179032097\n"
     ]
    }
   ],
   "source": [
    "# Step 6: Make Predictions\n",
    "trainer_predictions = classifier.predict(trainer)\n",
    "trainer_accuracy = accuracy_score(train_label, trainer_predictions)\n",
    "print(\"training accuracy is: \", trainer_accuracy)"
   ]
  },
  {
   "cell_type": "code",
   "execution_count": null,
   "id": "8eb394d0-c357-4bb6-9acb-736a7830265c",
   "metadata": {},
   "outputs": [],
   "source": []
  }
 ],
 "metadata": {
  "kernelspec": {
   "display_name": "Python 3 (ipykernel)",
   "language": "python",
   "name": "python3"
  },
  "language_info": {
   "codemirror_mode": {
    "name": "ipython",
    "version": 3
   },
   "file_extension": ".py",
   "mimetype": "text/x-python",
   "name": "python",
   "nbconvert_exporter": "python",
   "pygments_lexer": "ipython3",
   "version": "3.10.12"
  }
 },
 "nbformat": 4,
 "nbformat_minor": 5
}
