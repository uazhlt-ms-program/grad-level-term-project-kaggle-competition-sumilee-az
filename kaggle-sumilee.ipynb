{
 "cells": [
  {
   "cell_type": "code",
   "execution_count": 1,
   "id": "f3acaa4f-7fae-42fc-90a4-f7d24f7abfa8",
   "metadata": {},
   "outputs": [],
   "source": [
    "# Import necessary libraries\n",
    "import pandas as pd\n",
    "import numpy as np\n",
    "import re\n",
    "from sklearn.model_selection import train_test_split, cross_val_score, StratifiedKFold\n",
    "from sklearn.feature_extraction.text import TfidfVectorizer, CountVectorizer\n",
    "from sklearn.linear_model import LogisticRegression\n",
    "from sklearn.pipeline import Pipeline\n",
    "from sklearn.compose import ColumnTransformer\n",
    "from sklearn.metrics import make_scorer, f1_score, classification_report, accuracy_score\n",
    "from nltk.sentiment import SentimentIntensityAnalyzer\n",
    "from sklearn.base import BaseEstimator, TransformerMixin\n",
    "from sklearn.preprocessing import StandardScaler\n",
    "from scipy.sparse import csr_matrix\n",
    "import warnings \n",
    "from sklearn.naive_bayes import MultinomialNB\n",
    "warnings.filterwarnings('ignore') "
   ]
  },
  {
   "cell_type": "code",
   "execution_count": 2,
   "id": "bb0ef825-cd13-48d9-bc0b-3daa682d765f",
   "metadata": {},
   "outputs": [],
   "source": [
    "# Load the datasets\n",
    "# Training dataset to train the model.\n",
    "train = pd.read_csv('train.csv')\n",
    "# Test dataset to predict and evaluate the model's performance.\n",
    "test = pd.read_csv('test.csv')\n"
   ]
  },
  {
   "cell_type": "code",
   "execution_count": 3,
   "id": "c8264197-a574-4625-8a03-16f8b19eb068",
   "metadata": {},
   "outputs": [],
   "source": [
    "\n",
    "train_text = train['TEXT']\n",
    "train_label = train['LABEL']\n",
    "test_text = test['TEXT']\n",
    "\n",
    "\n",
    "# Replace NaN values with an empty string\n",
    "train_text = train_text.fillna('')\n",
    "test_text = test_text.fillna('')\n",
    "\n"
   ]
  },
  {
   "cell_type": "code",
   "execution_count": 4,
   "id": "d2e57968-e882-47f7-93ae-942a8fcf2e32",
   "metadata": {},
   "outputs": [],
   "source": [
    "vectorizer = TfidfVectorizer()"
   ]
  },
  {
   "cell_type": "code",
   "execution_count": 5,
   "id": "a6631501-de76-4375-bda2-6146faa6948a",
   "metadata": {},
   "outputs": [],
   "source": [
    "# Step 4: Train a Classifier\n",
    "trainer = vectorizer.fit_transform(train_text)\n",
    "\n",
    "# Fit the classifier with the training data\n",
    "classifier = LogisticRegression(C=50)\n",
    "classifier.fit(trainer, train_label)  \n",
    "\n",
    "\n",
    "# Make predictions on the test data\n",
    "tester = vectorizer.transform(test_text)\n",
    "trainer_predictions = classifier.predict(tester)"
   ]
  },
  {
   "cell_type": "code",
   "execution_count": null,
   "id": "d8e48d43-da20-499c-8cdb-ba41a0578356",
   "metadata": {},
   "outputs": [
    {
     "name": "stdout",
     "output_type": "stream",
     "text": [
      "Vectorizer Vocabulary Size: 278577\n",
      "Shape of transformed training data: (70317, 278577)\n",
      "Number of samples in training data: 70317\n",
      "Number of labels in training data: 70317\n",
      "Classifier parameters: {'C': 50, 'class_weight': None, 'dual': False, 'fit_intercept': True, 'intercept_scaling': 1, 'l1_ratio': None, 'max_iter': 100, 'multi_class': 'auto', 'n_jobs': None, 'penalty': 'l2', 'random_state': None, 'solver': 'lbfgs', 'tol': 0.0001, 'verbose': 0, 'warm_start': False}\n"
     ]
    }
   ],
   "source": [
    "# Vectorizer\n",
    "trainer = vectorizer.fit_transform(train_text)\n",
    "print(\"Vectorizer Vocabulary Size:\", len(vectorizer.vocabulary_))\n",
    "print(\"Shape of transformed training data:\", trainer.shape)\n",
    "\n",
    "# Training Data\n",
    "print(\"Number of samples in training data:\", len(train_text))\n",
    "print(\"Number of labels in training data:\", len(train_label))\n",
    "\n",
    "# Classifier\n",
    "print(\"Classifier parameters:\", classifier.get_params())\n",
    "\n",
    "# Training Process\n",
    "classifier.fit(trainer, train_label)\n",
    "print(\"Classifier trained successfully.\")\n",
    "\n",
    "# Predictions\n",
    "tester = vectorizer.transform(test_text)\n",
    "print(\"Shape of transformed test data:\", tester.shape)\n",
    "trainer_predictions = classifier.predict(tester)\n",
    "print(\"Predictions made on test data:\", trainer_predictions)"
   ]
  },
  {
   "cell_type": "code",
   "execution_count": null,
   "id": "87e16903-3003-4b21-8473-20595fd31dcf",
   "metadata": {},
   "outputs": [],
   "source": [
    "# Step 6: Make Predictions\n",
    "trainer_predictions = classifier.predict(trainer)\n",
    "trainer_accuracy = accuracy_score(train_label, trainer_predictions)\n",
    "print(\"Training accuracy is: \", trainer_accuracy)\n",
    "\n",
    "# Evaluate the model performance\n",
    "f1 = f1_score(train_label, trainer_predictions, average='macro')\n",
    "report = classification_report(train_label, trainer_predictions)\n",
    "\n",
    "print(\"F1 Score:\", f1)\n",
    "print(\"Report:\\n\", report)"
   ]
  },
  {
   "cell_type": "code",
   "execution_count": null,
   "id": "561203ca-2276-4e6c-a867-3faeeab80d45",
   "metadata": {},
   "outputs": [],
   "source": [
    "# Predictions\n",
    "tester = vectorizer.transform(test_text)\n",
    "print(\"Shape of transformed test data:\", tester.shape)\n",
    "trainer_predictions = classifier.predict(tester)\n",
    "print(\"Predictions made on test data:\", trainer_predictions)\n",
    "\n",
    "submission = pd.DataFrame({'ID': test['ID'], 'LABEL': trainer_predictions})\n",
    "\n",
    "# Save the submission DataFrame to a CSV file\n",
    "submission.to_csv('submission.csv', index=False)\n"
   ]
  },
  {
   "cell_type": "code",
   "execution_count": null,
   "id": "d2f6f1ed-020f-414a-832f-c1cd3373dd54",
   "metadata": {},
   "outputs": [],
   "source": []
  }
 ],
 "metadata": {
  "kernelspec": {
   "display_name": "Python 3 (ipykernel)",
   "language": "python",
   "name": "python3"
  },
  "language_info": {
   "codemirror_mode": {
    "name": "ipython",
    "version": 3
   },
   "file_extension": ".py",
   "mimetype": "text/x-python",
   "name": "python",
   "nbconvert_exporter": "python",
   "pygments_lexer": "ipython3",
   "version": "3.10.12"
  }
 },
 "nbformat": 4,
 "nbformat_minor": 5
}
